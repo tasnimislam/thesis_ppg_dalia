{
  "cells": [
    {
      "cell_type": "code",
      "execution_count": null,
      "metadata": {
        "colab": {
          "base_uri": "https://localhost:8080/"
        },
        "id": "TsdZNap_2E87",
        "outputId": "e8afc25d-df16-42d5-872b-47cfeb083269"
      },
      "outputs": [
        {
          "output_type": "stream",
          "name": "stdout",
          "text": [
            "Drive already mounted at /content/drive; to attempt to forcibly remount, call drive.mount(\"/content/drive\", force_remount=True).\n"
          ]
        }
      ],
      "source": [
        "from google.colab import drive\n",
        "drive.mount('/content/drive')"
      ]
    },
    {
      "cell_type": "code",
      "execution_count": null,
      "metadata": {
        "colab": {
          "base_uri": "https://localhost:8080/"
        },
        "id": "OFBdeFNOYJl3",
        "outputId": "87b3c63d-a3a9-4144-94f4-52be0b46d95b"
      },
      "outputs": [
        {
          "output_type": "stream",
          "name": "stdout",
          "text": [
            "/content/drive/MyDrive\n"
          ]
        }
      ],
      "source": [
        "%cd \"/content/drive/MyDrive\""
      ]
    },
    {
      "cell_type": "code",
      "execution_count": null,
      "metadata": {
        "colab": {
          "base_uri": "https://localhost:8080/"
        },
        "id": "8XBDmN4LYXTu",
        "outputId": "2d45ee5b-aa21-4d05-ae29-1aea351d96fb"
      },
      "outputs": [
        {
          "output_type": "stream",
          "name": "stdout",
          "text": [
            "/content/drive/.shortcut-targets-by-id/11t08Hq3KOGpofHePx8ehqCVCaoHOjLI5/thesis_ppg_dalia\n"
          ]
        }
      ],
      "source": [
        "%cd \"/content/drive/MyDrive/thesis_ppg_dalia\""
      ]
    },
    {
      "cell_type": "code",
      "execution_count": null,
      "metadata": {
        "id": "p9szKDDPZA32"
      },
      "outputs": [],
      "source": [
        "!pip install dp-accounting"
      ]
    },
    {
      "cell_type": "code",
      "execution_count": null,
      "metadata": {
        "id": "XTxpCSVYWhnW"
      },
      "outputs": [],
      "source": [
        "from custom_files.model_training import *\n",
        "from custom_files.model_layer_output_visualize import *\n",
        "from tqdm import tqdm\n",
        "\n",
        "path = '/content/drive/MyDrive/PPG_FieldStudy'\n",
        "\n",
        "nm_eps = []\n",
        "for nm in tqdm(np.arange(1, 2, 0.1)):\n",
        "  subject_no = 1\n",
        "  epochs = 30\n",
        "  l2_norm_clip = 1.5\n",
        "  noise_multiplier = nm\n",
        "  num_microbatches = 1\n",
        "  learning_rate = 0.0001\n",
        "  batch_size = 4\n",
        "\n",
        "\n",
        "  (overall_epsilon,rdp) = train(subject_no, epochs, l2_norm_clip, noise_multiplier, num_microbatches, learning_rate, path, batch_size, mode = 'privacy')\n",
        "  nm_eps.append({\"nm\":nm, \"eps\":overall_epsilon, \"rdp\":rdp})"
      ]
    },
    {
      "cell_type": "code",
      "source": [
        "import pandas as pd\n",
        "\n",
        "df = pd.DataFrame(nm_eps)\n",
        "df.to_csv(\"/content/np_eps_4.csv\", index=False)"
      ],
      "metadata": {
        "id": "VrZxe0n_aabo"
      },
      "execution_count": null,
      "outputs": []
    }
  ],
  "metadata": {
    "accelerator": "GPU",
    "colab": {
      "provenance": []
    },
    "gpuClass": "standard",
    "kernelspec": {
      "display_name": "Python 3",
      "name": "python3"
    },
    "language_info": {
      "name": "python"
    }
  },
  "nbformat": 4,
  "nbformat_minor": 0
}